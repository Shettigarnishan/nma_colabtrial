{
  "nbformat": 4,
  "nbformat_minor": 0,
  "metadata": {
    "colab": {
      "name": "sandbox.ipynb",
      "provenance": [],
      "collapsed_sections": [],
      "include_colab_link": true
    },
    "kernelspec": {
      "name": "python3",
      "display_name": "Python 3"
    },
    "language_info": {
      "name": "python"
    }
  },
  "cells": [
    {
      "cell_type": "markdown",
      "metadata": {
        "id": "view-in-github",
        "colab_type": "text"
      },
      "source": [
        "<a href=\"https://colab.research.google.com/github/Shettigarnishan/nma_colabtrial/blob/main/sandbox.ipynb\" target=\"_parent\"><img src=\"https://colab.research.google.com/assets/colab-badge.svg\" alt=\"Open In Colab\"/></a>"
      ]
    },
    {
      "cell_type": "markdown",
      "metadata": {
        "id": "yE9fVXrs3aDv"
      },
      "source": [
        "## Install packages\n"
      ]
    },
    {
      "cell_type": "code",
      "metadata": {
        "id": "Kd08oMQa3fOb",
        "colab": {
          "base_uri": "https://localhost:8080/",
          "height": 1000
        },
        "outputId": "c9818524-243b-4f30-b0d6-7707128681a5"
      },
      "source": [
        "!python -m pip install --upgrade pip\n",
        "!pip install mindscope_utilities --upgrade"
      ],
      "execution_count": null,
      "outputs": [
        {
          "output_type": "stream",
          "text": [
            "Collecting pip\n",
            "\u001b[?25l  Downloading https://files.pythonhosted.org/packages/47/ca/f0d790b6e18b3a6f3bd5e80c2ee4edbb5807286c21cdd0862ca933f751dd/pip-21.1.3-py3-none-any.whl (1.5MB)\n",
            "\r\u001b[K     |▏                               | 10kB 13.6MB/s eta 0:00:01\r\u001b[K     |▍                               | 20kB 14.2MB/s eta 0:00:01\r\u001b[K     |▋                               | 30kB 9.5MB/s eta 0:00:01\r\u001b[K     |▉                               | 40kB 8.0MB/s eta 0:00:01\r\u001b[K     |█                               | 51kB 4.0MB/s eta 0:00:01\r\u001b[K     |█▎                              | 61kB 4.5MB/s eta 0:00:01\r\u001b[K     |█▌                              | 71kB 4.9MB/s eta 0:00:01\r\u001b[K     |█▊                              | 81kB 5.1MB/s eta 0:00:01\r\u001b[K     |██                              | 92kB 5.4MB/s eta 0:00:01\r\u001b[K     |██▏                             | 102kB 4.1MB/s eta 0:00:01\r\u001b[K     |██▎                             | 112kB 4.1MB/s eta 0:00:01\r\u001b[K     |██▌                             | 122kB 4.1MB/s eta 0:00:01\r\u001b[K     |██▊                             | 133kB 4.1MB/s eta 0:00:01\r\u001b[K     |███                             | 143kB 4.1MB/s eta 0:00:01\r\u001b[K     |███▏                            | 153kB 4.1MB/s eta 0:00:01\r\u001b[K     |███▍                            | 163kB 4.1MB/s eta 0:00:01\r\u001b[K     |███▋                            | 174kB 4.1MB/s eta 0:00:01\r\u001b[K     |███▉                            | 184kB 4.1MB/s eta 0:00:01\r\u001b[K     |████                            | 194kB 4.1MB/s eta 0:00:01\r\u001b[K     |████▎                           | 204kB 4.1MB/s eta 0:00:01\r\u001b[K     |████▌                           | 215kB 4.1MB/s eta 0:00:01\r\u001b[K     |████▋                           | 225kB 4.1MB/s eta 0:00:01\r\u001b[K     |████▉                           | 235kB 4.1MB/s eta 0:00:01\r\u001b[K     |█████                           | 245kB 4.1MB/s eta 0:00:01\r\u001b[K     |█████▎                          | 256kB 4.1MB/s eta 0:00:01\r\u001b[K     |█████▌                          | 266kB 4.1MB/s eta 0:00:01\r\u001b[K     |█████▊                          | 276kB 4.1MB/s eta 0:00:01\r\u001b[K     |██████                          | 286kB 4.1MB/s eta 0:00:01\r\u001b[K     |██████▏                         | 296kB 4.1MB/s eta 0:00:01\r\u001b[K     |██████▍                         | 307kB 4.1MB/s eta 0:00:01\r\u001b[K     |██████▋                         | 317kB 4.1MB/s eta 0:00:01\r\u001b[K     |██████▊                         | 327kB 4.1MB/s eta 0:00:01\r\u001b[K     |███████                         | 337kB 4.1MB/s eta 0:00:01\r\u001b[K     |███████▏                        | 348kB 4.1MB/s eta 0:00:01\r\u001b[K     |███████▍                        | 358kB 4.1MB/s eta 0:00:01\r\u001b[K     |███████▋                        | 368kB 4.1MB/s eta 0:00:01\r\u001b[K     |███████▉                        | 378kB 4.1MB/s eta 0:00:01\r\u001b[K     |████████                        | 389kB 4.1MB/s eta 0:00:01\r\u001b[K     |████████▎                       | 399kB 4.1MB/s eta 0:00:01\r\u001b[K     |████████▌                       | 409kB 4.1MB/s eta 0:00:01\r\u001b[K     |████████▊                       | 419kB 4.1MB/s eta 0:00:01\r\u001b[K     |█████████                       | 430kB 4.1MB/s eta 0:00:01\r\u001b[K     |█████████                       | 440kB 4.1MB/s eta 0:00:01\r\u001b[K     |█████████▎                      | 450kB 4.1MB/s eta 0:00:01\r\u001b[K     |█████████▌                      | 460kB 4.1MB/s eta 0:00:01\r\u001b[K     |█████████▊                      | 471kB 4.1MB/s eta 0:00:01\r\u001b[K     |██████████                      | 481kB 4.1MB/s eta 0:00:01\r\u001b[K     |██████████▏                     | 491kB 4.1MB/s eta 0:00:01\r\u001b[K     |██████████▍                     | 501kB 4.1MB/s eta 0:00:01\r\u001b[K     |██████████▋                     | 512kB 4.1MB/s eta 0:00:01\r\u001b[K     |██████████▉                     | 522kB 4.1MB/s eta 0:00:01\r\u001b[K     |███████████                     | 532kB 4.1MB/s eta 0:00:01\r\u001b[K     |███████████▏                    | 542kB 4.1MB/s eta 0:00:01\r\u001b[K     |███████████▍                    | 552kB 4.1MB/s eta 0:00:01\r\u001b[K     |███████████▋                    | 563kB 4.1MB/s eta 0:00:01\r\u001b[K     |███████████▉                    | 573kB 4.1MB/s eta 0:00:01\r\u001b[K     |████████████                    | 583kB 4.1MB/s eta 0:00:01\r\u001b[K     |████████████▎                   | 593kB 4.1MB/s eta 0:00:01\r\u001b[K     |████████████▌                   | 604kB 4.1MB/s eta 0:00:01\r\u001b[K     |████████████▊                   | 614kB 4.1MB/s eta 0:00:01\r\u001b[K     |█████████████                   | 624kB 4.1MB/s eta 0:00:01\r\u001b[K     |█████████████▏                  | 634kB 4.1MB/s eta 0:00:01\r\u001b[K     |█████████████▍                  | 645kB 4.1MB/s eta 0:00:01\r\u001b[K     |█████████████▌                  | 655kB 4.1MB/s eta 0:00:01\r\u001b[K     |█████████████▊                  | 665kB 4.1MB/s eta 0:00:01\r\u001b[K     |██████████████                  | 675kB 4.1MB/s eta 0:00:01\r\u001b[K     |██████████████▏                 | 686kB 4.1MB/s eta 0:00:01\r\u001b[K     |██████████████▍                 | 696kB 4.1MB/s eta 0:00:01\r\u001b[K     |██████████████▋                 | 706kB 4.1MB/s eta 0:00:01\r\u001b[K     |██████████████▉                 | 716kB 4.1MB/s eta 0:00:01\r\u001b[K     |███████████████                 | 727kB 4.1MB/s eta 0:00:01\r\u001b[K     |███████████████▎                | 737kB 4.1MB/s eta 0:00:01\r\u001b[K     |███████████████▌                | 747kB 4.1MB/s eta 0:00:01\r\u001b[K     |███████████████▋                | 757kB 4.1MB/s eta 0:00:01\r\u001b[K     |███████████████▉                | 768kB 4.1MB/s eta 0:00:01\r\u001b[K     |████████████████                | 778kB 4.1MB/s eta 0:00:01\r\u001b[K     |████████████████▎               | 788kB 4.1MB/s eta 0:00:01\r\u001b[K     |████████████████▌               | 798kB 4.1MB/s eta 0:00:01\r\u001b[K     |████████████████▊               | 808kB 4.1MB/s eta 0:00:01\r\u001b[K     |█████████████████               | 819kB 4.1MB/s eta 0:00:01\r\u001b[K     |█████████████████▏              | 829kB 4.1MB/s eta 0:00:01\r\u001b[K     |█████████████████▍              | 839kB 4.1MB/s eta 0:00:01\r\u001b[K     |█████████████████▋              | 849kB 4.1MB/s eta 0:00:01\r\u001b[K     |█████████████████▉              | 860kB 4.1MB/s eta 0:00:01\r\u001b[K     |██████████████████              | 870kB 4.1MB/s eta 0:00:01\r\u001b[K     |██████████████████▏             | 880kB 4.1MB/s eta 0:00:01\r\u001b[K     |██████████████████▍             | 890kB 4.1MB/s eta 0:00:01\r\u001b[K     |██████████████████▋             | 901kB 4.1MB/s eta 0:00:01\r\u001b[K     |██████████████████▉             | 911kB 4.1MB/s eta 0:00:01\r\u001b[K     |███████████████████             | 921kB 4.1MB/s eta 0:00:01\r\u001b[K     |███████████████████▎            | 931kB 4.1MB/s eta 0:00:01\r\u001b[K     |███████████████████▌            | 942kB 4.1MB/s eta 0:00:01\r\u001b[K     |███████████████████▊            | 952kB 4.1MB/s eta 0:00:01\r\u001b[K     |████████████████████            | 962kB 4.1MB/s eta 0:00:01\r\u001b[K     |████████████████████            | 972kB 4.1MB/s eta 0:00:01\r\u001b[K     |████████████████████▎           | 983kB 4.1MB/s eta 0:00:01\r\u001b[K     |████████████████████▌           | 993kB 4.1MB/s eta 0:00:01\r\u001b[K     |████████████████████▊           | 1.0MB 4.1MB/s eta 0:00:01\r\u001b[K     |█████████████████████           | 1.0MB 4.1MB/s eta 0:00:01\r\u001b[K     |█████████████████████▏          | 1.0MB 4.1MB/s eta 0:00:01\r\u001b[K     |█████████████████████▍          | 1.0MB 4.1MB/s eta 0:00:01\r\u001b[K     |█████████████████████▋          | 1.0MB 4.1MB/s eta 0:00:01\r\u001b[K     |█████████████████████▉          | 1.1MB 4.1MB/s eta 0:00:01\r\u001b[K     |██████████████████████          | 1.1MB 4.1MB/s eta 0:00:01\r\u001b[K     |██████████████████████▎         | 1.1MB 4.1MB/s eta 0:00:01\r\u001b[K     |██████████████████████▍         | 1.1MB 4.1MB/s eta 0:00:01\r\u001b[K     |██████████████████████▋         | 1.1MB 4.1MB/s eta 0:00:01\r\u001b[K     |██████████████████████▉         | 1.1MB 4.1MB/s eta 0:00:01\r\u001b[K     |███████████████████████         | 1.1MB 4.1MB/s eta 0:00:01\r\u001b[K     |███████████████████████▎        | 1.1MB 4.1MB/s eta 0:00:01\r\u001b[K     |███████████████████████▌        | 1.1MB 4.1MB/s eta 0:00:01\r\u001b[K     |███████████████████████▊        | 1.1MB 4.1MB/s eta 0:00:01\r\u001b[K     |████████████████████████        | 1.2MB 4.1MB/s eta 0:00:01\r\u001b[K     |████████████████████████▏       | 1.2MB 4.1MB/s eta 0:00:01\r\u001b[K     |████████████████████████▍       | 1.2MB 4.1MB/s eta 0:00:01\r\u001b[K     |████████████████████████▌       | 1.2MB 4.1MB/s eta 0:00:01\r\u001b[K     |████████████████████████▊       | 1.2MB 4.1MB/s eta 0:00:01\r\u001b[K     |█████████████████████████       | 1.2MB 4.1MB/s eta 0:00:01\r\u001b[K     |█████████████████████████▏      | 1.2MB 4.1MB/s eta 0:00:01\r\u001b[K     |█████████████████████████▍      | 1.2MB 4.1MB/s eta 0:00:01\r\u001b[K     |█████████████████████████▋      | 1.2MB 4.1MB/s eta 0:00:01\r\u001b[K     |█████████████████████████▉      | 1.2MB 4.1MB/s eta 0:00:01\r\u001b[K     |██████████████████████████      | 1.3MB 4.1MB/s eta 0:00:01\r\u001b[K     |██████████████████████████▎     | 1.3MB 4.1MB/s eta 0:00:01\r\u001b[K     |██████████████████████████▌     | 1.3MB 4.1MB/s eta 0:00:01\r\u001b[K     |██████████████████████████▊     | 1.3MB 4.1MB/s eta 0:00:01\r\u001b[K     |██████████████████████████▉     | 1.3MB 4.1MB/s eta 0:00:01\r\u001b[K     |███████████████████████████     | 1.3MB 4.1MB/s eta 0:00:01\r\u001b[K     |███████████████████████████▎    | 1.3MB 4.1MB/s eta 0:00:01\r\u001b[K     |███████████████████████████▌    | 1.3MB 4.1MB/s eta 0:00:01\r\u001b[K     |███████████████████████████▊    | 1.3MB 4.1MB/s eta 0:00:01\r\u001b[K     |████████████████████████████    | 1.4MB 4.1MB/s eta 0:00:01\r\u001b[K     |████████████████████████████▏   | 1.4MB 4.1MB/s eta 0:00:01\r\u001b[K     |████████████████████████████▍   | 1.4MB 4.1MB/s eta 0:00:01\r\u001b[K     |████████████████████████████▋   | 1.4MB 4.1MB/s eta 0:00:01\r\u001b[K     |████████████████████████████▉   | 1.4MB 4.1MB/s eta 0:00:01\r\u001b[K     |█████████████████████████████   | 1.4MB 4.1MB/s eta 0:00:01\r\u001b[K     |█████████████████████████████▏  | 1.4MB 4.1MB/s eta 0:00:01\r\u001b[K     |█████████████████████████████▍  | 1.4MB 4.1MB/s eta 0:00:01\r\u001b[K     |█████████████████████████████▋  | 1.4MB 4.1MB/s eta 0:00:01\r\u001b[K     |█████████████████████████████▉  | 1.4MB 4.1MB/s eta 0:00:01\r\u001b[K     |██████████████████████████████  | 1.5MB 4.1MB/s eta 0:00:01\r\u001b[K     |██████████████████████████████▎ | 1.5MB 4.1MB/s eta 0:00:01\r\u001b[K     |██████████████████████████████▌ | 1.5MB 4.1MB/s eta 0:00:01\r\u001b[K     |██████████████████████████████▊ | 1.5MB 4.1MB/s eta 0:00:01\r\u001b[K     |███████████████████████████████ | 1.5MB 4.1MB/s eta 0:00:01\r\u001b[K     |███████████████████████████████▏| 1.5MB 4.1MB/s eta 0:00:01\r\u001b[K     |███████████████████████████████▎| 1.5MB 4.1MB/s eta 0:00:01\r\u001b[K     |███████████████████████████████▌| 1.5MB 4.1MB/s eta 0:00:01\r\u001b[K     |███████████████████████████████▊| 1.5MB 4.1MB/s eta 0:00:01\r\u001b[K     |████████████████████████████████| 1.5MB 4.1MB/s eta 0:00:01\r\u001b[K     |████████████████████████████████| 1.6MB 4.1MB/s \n",
            "\u001b[?25hInstalling collected packages: pip\n",
            "  Found existing installation: pip 19.3.1\n",
            "    Uninstalling pip-19.3.1:\n",
            "      Successfully uninstalled pip-19.3.1\n",
            "Successfully installed pip-21.1.3\n",
            "Collecting mindscope_utilities\n",
            "  Downloading mindscope_utilities-0.1.6.tar.gz (6.1 kB)\n",
            "Collecting flake8\n",
            "  Downloading flake8-3.9.2-py2.py3-none-any.whl (73 kB)\n",
            "\u001b[K     |████████████████████████████████| 73 kB 1.2 MB/s \n",
            "\u001b[?25hRequirement already satisfied: pytest in /usr/local/lib/python3.7/dist-packages (from mindscope_utilities) (3.6.4)\n",
            "Collecting allensdk==2.11.2\n",
            "  Downloading allensdk-2.11.2-py3-none-any.whl (1.7 MB)\n",
            "\u001b[K     |████████████████████████████████| 1.7 MB 28.8 MB/s \n",
            "\u001b[?25hCollecting requests-toolbelt<1.0.0\n",
            "  Downloading requests_toolbelt-0.9.1-py2.py3-none-any.whl (54 kB)\n",
            "\u001b[K     |████████████████████████████████| 54 kB 2.3 MB/s \n",
            "\u001b[?25hRequirement already satisfied: requests<3.0.0 in /usr/local/lib/python3.7/dist-packages (from allensdk==2.11.2->mindscope_utilities) (2.23.0)\n",
            "Requirement already satisfied: seaborn<1.0.0 in /usr/local/lib/python3.7/dist-packages (from allensdk==2.11.2->mindscope_utilities) (0.11.1)\n",
            "Requirement already satisfied: tqdm>=4.27 in /usr/local/lib/python3.7/dist-packages (from allensdk==2.11.2->mindscope_utilities) (4.41.1)\n",
            "Collecting numpy<1.19.0,>=1.15.4\n",
            "  Downloading numpy-1.18.5-cp37-cp37m-manylinux1_x86_64.whl (20.1 MB)\n",
            "\u001b[K     |████████████████████████████████| 20.1 MB 1.6 MB/s \n",
            "\u001b[?25hCollecting pandas<=0.25.3,>=0.25.1\n",
            "  Downloading pandas-0.25.3-cp37-cp37m-manylinux1_x86_64.whl (10.4 MB)\n",
            "\u001b[K     |████████████████████████████████| 10.4 MB 51.5 MB/s \n",
            "\u001b[?25hRequirement already satisfied: scipy<2.0.0,>=1.4.0 in /usr/local/lib/python3.7/dist-packages (from allensdk==2.11.2->mindscope_utilities) (1.4.1)\n",
            "Requirement already satisfied: matplotlib<4.0.0,>=1.4.3 in /usr/local/lib/python3.7/dist-packages (from allensdk==2.11.2->mindscope_utilities) (3.2.2)\n",
            "Requirement already satisfied: scikit-image<0.17.0,>=0.14.0 in /usr/local/lib/python3.7/dist-packages (from allensdk==2.11.2->mindscope_utilities) (0.16.2)\n",
            "Collecting psycopg2-binary<3.0.0,>=2.7\n",
            "  Downloading psycopg2_binary-2.9.1-cp37-cp37m-manylinux_2_17_x86_64.manylinux2014_x86_64.whl (3.4 MB)\n",
            "\u001b[K     |████████████████████████████████| 3.4 MB 47.7 MB/s \n",
            "\u001b[?25hCollecting nest-asyncio==1.2.0\n",
            "  Downloading nest_asyncio-1.2.0-py3-none-any.whl (4.5 kB)\n",
            "Collecting glymur==0.8.19\n",
            "  Downloading Glymur-0.8.19.tar.gz (3.4 MB)\n",
            "\u001b[K     |████████████████████████████████| 3.4 MB 28.8 MB/s \n",
            "\u001b[?25hCollecting pynrrd<1.0.0,>=0.2.1\n",
            "  Downloading pynrrd-0.4.2-py2.py3-none-any.whl (18 kB)\n",
            "Requirement already satisfied: semver in /usr/local/lib/python3.7/dist-packages (from allensdk==2.11.2->mindscope_utilities) (2.13.0)\n",
            "Requirement already satisfied: six<2.0.0,>=1.9.0 in /usr/local/lib/python3.7/dist-packages (from allensdk==2.11.2->mindscope_utilities) (1.15.0)\n",
            "Collecting hdmf<2.5.0\n",
            "  Downloading hdmf-2.4.0-py2.py3-none-any.whl (149 kB)\n",
            "\u001b[K     |████████████████████████████████| 149 kB 29.3 MB/s \n",
            "\u001b[?25hCollecting marshmallow==3.0.0rc6\n",
            "  Downloading marshmallow-3.0.0rc6-py2.py3-none-any.whl (42 kB)\n",
            "\u001b[K     |████████████████████████████████| 42 kB 1.1 MB/s \n",
            "\u001b[?25hCollecting tables<4.0.0,>=3.6.0\n",
            "  Downloading tables-3.6.1-cp37-cp37m-manylinux1_x86_64.whl (4.3 MB)\n",
            "\u001b[K     |████████████████████████████████| 4.3 MB 30.5 MB/s \n",
            "\u001b[?25hCollecting aiohttp==3.7.4\n",
            "  Downloading aiohttp-3.7.4-cp37-cp37m-manylinux2014_x86_64.whl (1.3 MB)\n",
            "\u001b[K     |████████████████████████████████| 1.3 MB 33.6 MB/s \n",
            "\u001b[?25hCollecting xarray<0.16.0\n",
            "  Downloading xarray-0.15.1-py3-none-any.whl (668 kB)\n",
            "\u001b[K     |████████████████████████████████| 668 kB 19.7 MB/s \n",
            "\u001b[?25hCollecting simplejson<4.0.0,>=3.10.0\n",
            "  Downloading simplejson-3.17.2-cp37-cp37m-manylinux2010_x86_64.whl (128 kB)\n",
            "\u001b[K     |████████████████████████████████| 128 kB 34.4 MB/s \n",
            "\u001b[?25hRequirement already satisfied: jinja2<2.12.0,>=2.7.3 in /usr/local/lib/python3.7/dist-packages (from allensdk==2.11.2->mindscope_utilities) (2.11.3)\n",
            "Collecting boto3==1.17.21\n",
            "  Downloading boto3-1.17.21-py2.py3-none-any.whl (130 kB)\n",
            "\u001b[K     |████████████████████████████████| 130 kB 57.7 MB/s \n",
            "\u001b[?25hRequirement already satisfied: statsmodels<=0.13.0 in /usr/local/lib/python3.7/dist-packages (from allensdk==2.11.2->mindscope_utilities) (0.10.2)\n",
            "Collecting h5py<3.0.0,>=2.8\n",
            "  Downloading h5py-2.10.0-cp37-cp37m-manylinux1_x86_64.whl (2.9 MB)\n",
            "\u001b[K     |████████████████████████████████| 2.9 MB 30.2 MB/s \n",
            "\u001b[?25hCollecting argschema<3.0.0\n",
            "  Downloading argschema-2.0.2.tar.gz (24 kB)\n",
            "Collecting scikit-build<1.0.0\n",
            "  Downloading scikit_build-0.11.1-py2.py3-none-any.whl (72 kB)\n",
            "\u001b[K     |████████████████████████████████| 72 kB 866 kB/s \n",
            "\u001b[?25hCollecting simpleitk<3.0.0,>=2.0.2\n",
            "  Downloading SimpleITK-2.0.2-cp37-cp37m-manylinux2010_x86_64.whl (47.4 MB)\n",
            "\u001b[K     |████████████████████████████████| 47.4 MB 27 kB/s \n",
            "\u001b[?25hRequirement already satisfied: future<1.0.0,>=0.14.3 in /usr/local/lib/python3.7/dist-packages (from allensdk==2.11.2->mindscope_utilities) (0.16.0)\n",
            "Collecting pynwb<2.0.0,>=1.3.2\n",
            "  Downloading pynwb-1.5.1-py2.py3-none-any.whl (98 kB)\n",
            "\u001b[K     |████████████████████████████████| 98 kB 7.3 MB/s \n",
            "\u001b[?25hCollecting ndx-events<=0.2.0\n",
            "  Downloading ndx_events-0.2.0-py2.py3-none-any.whl (13 kB)\n",
            "Collecting async-timeout<4.0,>=3.0\n",
            "  Downloading async_timeout-3.0.1-py3-none-any.whl (8.2 kB)\n",
            "Collecting multidict<7.0,>=4.5\n",
            "  Downloading multidict-5.1.0-cp37-cp37m-manylinux2014_x86_64.whl (142 kB)\n",
            "\u001b[K     |████████████████████████████████| 142 kB 66.7 MB/s \n",
            "\u001b[?25hRequirement already satisfied: typing-extensions>=3.6.5 in /usr/local/lib/python3.7/dist-packages (from aiohttp==3.7.4->allensdk==2.11.2->mindscope_utilities) (3.7.4.3)\n",
            "Requirement already satisfied: attrs>=17.3.0 in /usr/local/lib/python3.7/dist-packages (from aiohttp==3.7.4->allensdk==2.11.2->mindscope_utilities) (21.2.0)\n",
            "Requirement already satisfied: chardet<4.0,>=2.0 in /usr/local/lib/python3.7/dist-packages (from aiohttp==3.7.4->allensdk==2.11.2->mindscope_utilities) (3.0.4)\n",
            "Collecting yarl<2.0,>=1.0\n",
            "  Downloading yarl-1.6.3-cp37-cp37m-manylinux2014_x86_64.whl (294 kB)\n",
            "\u001b[K     |████████████████████████████████| 294 kB 68.4 MB/s \n",
            "\u001b[?25hCollecting jmespath<1.0.0,>=0.7.1\n",
            "  Downloading jmespath-0.10.0-py2.py3-none-any.whl (24 kB)\n",
            "Collecting s3transfer<0.4.0,>=0.3.0\n",
            "  Downloading s3transfer-0.3.7-py2.py3-none-any.whl (73 kB)\n",
            "\u001b[K     |████████████████████████████████| 73 kB 1.7 MB/s \n",
            "\u001b[?25hCollecting botocore<1.21.0,>=1.20.21\n",
            "  Downloading botocore-1.20.107-py2.py3-none-any.whl (7.7 MB)\n",
            "\u001b[K     |████████████████████████████████| 7.7 MB 29.0 MB/s \n",
            "\u001b[?25hRequirement already satisfied: setuptools in /usr/local/lib/python3.7/dist-packages (from glymur==0.8.19->allensdk==2.11.2->mindscope_utilities) (57.0.0)\n",
            "Collecting urllib3<1.27,>=1.25.4\n",
            "  Downloading urllib3-1.26.6-py2.py3-none-any.whl (138 kB)\n",
            "\u001b[K     |████████████████████████████████| 138 kB 51.5 MB/s \n",
            "\u001b[?25hRequirement already satisfied: python-dateutil<3.0.0,>=2.1 in /usr/local/lib/python3.7/dist-packages (from botocore<1.21.0,>=1.20.21->boto3==1.17.21->allensdk==2.11.2->mindscope_utilities) (2.8.1)\n",
            "Collecting ruamel.yaml<1,>=0.15\n",
            "  Downloading ruamel.yaml-0.17.10-py3-none-any.whl (108 kB)\n",
            "\u001b[K     |████████████████████████████████| 108 kB 55.1 MB/s \n",
            "\u001b[?25hRequirement already satisfied: jsonschema<4,>=2.6.0 in /usr/local/lib/python3.7/dist-packages (from hdmf<2.5.0->allensdk==2.11.2->mindscope_utilities) (2.6.0)\n",
            "Requirement already satisfied: MarkupSafe>=0.23 in /usr/local/lib/python3.7/dist-packages (from jinja2<2.12.0,>=2.7.3->allensdk==2.11.2->mindscope_utilities) (2.0.1)\n",
            "Requirement already satisfied: cycler>=0.10 in /usr/local/lib/python3.7/dist-packages (from matplotlib<4.0.0,>=1.4.3->allensdk==2.11.2->mindscope_utilities) (0.10.0)\n",
            "Requirement already satisfied: pyparsing!=2.0.4,!=2.1.2,!=2.1.6,>=2.0.1 in /usr/local/lib/python3.7/dist-packages (from matplotlib<4.0.0,>=1.4.3->allensdk==2.11.2->mindscope_utilities) (2.4.7)\n",
            "Requirement already satisfied: kiwisolver>=1.0.1 in /usr/local/lib/python3.7/dist-packages (from matplotlib<4.0.0,>=1.4.3->allensdk==2.11.2->mindscope_utilities) (1.3.1)\n",
            "Requirement already satisfied: pytz>=2017.2 in /usr/local/lib/python3.7/dist-packages (from pandas<=0.25.3,>=0.25.1->allensdk==2.11.2->mindscope_utilities) (2018.9)\n",
            "Collecting pynwb<2.0.0,>=1.3.2\n",
            "  Downloading pynwb-1.5.0-py2.py3-none-any.whl (98 kB)\n",
            "\u001b[K     |████████████████████████████████| 98 kB 7.5 MB/s \n",
            "\u001b[?25h  Downloading pynwb-1.4.0-py2.py3-none-any.whl (94 kB)\n",
            "\u001b[K     |████████████████████████████████| 94 kB 2.8 MB/s \n",
            "\u001b[?25hRequirement already satisfied: certifi>=2017.4.17 in /usr/local/lib/python3.7/dist-packages (from requests<3.0.0->allensdk==2.11.2->mindscope_utilities) (2021.5.30)\n",
            "Requirement already satisfied: idna<3,>=2.5 in /usr/local/lib/python3.7/dist-packages (from requests<3.0.0->allensdk==2.11.2->mindscope_utilities) (2.10)\n",
            "Collecting urllib3<1.27,>=1.25.4\n",
            "  Downloading urllib3-1.25.11-py2.py3-none-any.whl (127 kB)\n",
            "\u001b[K     |████████████████████████████████| 127 kB 56.5 MB/s \n",
            "\u001b[?25hCollecting ruamel.yaml.clib>=0.1.2\n",
            "  Downloading ruamel.yaml.clib-0.2.6-cp37-cp37m-manylinux1_x86_64.whl (546 kB)\n",
            "\u001b[K     |████████████████████████████████| 546 kB 43.0 MB/s \n",
            "\u001b[?25hRequirement already satisfied: packaging in /usr/local/lib/python3.7/dist-packages (from scikit-build<1.0.0->allensdk==2.11.2->mindscope_utilities) (20.9)\n",
            "Requirement already satisfied: wheel>=0.29.0 in /usr/local/lib/python3.7/dist-packages (from scikit-build<1.0.0->allensdk==2.11.2->mindscope_utilities) (0.36.2)\n",
            "Collecting distro\n",
            "  Downloading distro-1.5.0-py2.py3-none-any.whl (18 kB)\n",
            "Requirement already satisfied: PyWavelets>=0.4.0 in /usr/local/lib/python3.7/dist-packages (from scikit-image<0.17.0,>=0.14.0->allensdk==2.11.2->mindscope_utilities) (1.1.1)\n",
            "Requirement already satisfied: pillow>=4.3.0 in /usr/local/lib/python3.7/dist-packages (from scikit-image<0.17.0,>=0.14.0->allensdk==2.11.2->mindscope_utilities) (7.1.2)\n",
            "Requirement already satisfied: networkx>=2.0 in /usr/local/lib/python3.7/dist-packages (from scikit-image<0.17.0,>=0.14.0->allensdk==2.11.2->mindscope_utilities) (2.5.1)\n",
            "Requirement already satisfied: imageio>=2.3.0 in /usr/local/lib/python3.7/dist-packages (from scikit-image<0.17.0,>=0.14.0->allensdk==2.11.2->mindscope_utilities) (2.4.1)\n",
            "Requirement already satisfied: decorator<5,>=4.3 in /usr/local/lib/python3.7/dist-packages (from networkx>=2.0->scikit-image<0.17.0,>=0.14.0->allensdk==2.11.2->mindscope_utilities) (4.4.2)\n",
            "Requirement already satisfied: patsy>=0.4.0 in /usr/local/lib/python3.7/dist-packages (from statsmodels<=0.13.0->allensdk==2.11.2->mindscope_utilities) (0.5.1)\n",
            "Requirement already satisfied: numexpr>=2.6.2 in /usr/local/lib/python3.7/dist-packages (from tables<4.0.0,>=3.6.0->allensdk==2.11.2->mindscope_utilities) (2.7.3)\n",
            "Collecting pyflakes<2.4.0,>=2.3.0\n",
            "  Downloading pyflakes-2.3.1-py2.py3-none-any.whl (68 kB)\n",
            "\u001b[K     |████████████████████████████████| 68 kB 6.1 MB/s \n",
            "\u001b[?25hRequirement already satisfied: importlib-metadata in /usr/local/lib/python3.7/dist-packages (from flake8->mindscope_utilities) (4.5.0)\n",
            "Collecting pycodestyle<2.8.0,>=2.7.0\n",
            "  Downloading pycodestyle-2.7.0-py2.py3-none-any.whl (41 kB)\n",
            "\u001b[K     |████████████████████████████████| 41 kB 505 kB/s \n",
            "\u001b[?25hCollecting mccabe<0.7.0,>=0.6.0\n",
            "  Downloading mccabe-0.6.1-py2.py3-none-any.whl (8.6 kB)\n",
            "Requirement already satisfied: zipp>=0.5 in /usr/local/lib/python3.7/dist-packages (from importlib-metadata->flake8->mindscope_utilities) (3.4.1)\n",
            "Requirement already satisfied: pluggy<0.8,>=0.5 in /usr/local/lib/python3.7/dist-packages (from pytest->mindscope_utilities) (0.7.1)\n",
            "Requirement already satisfied: more-itertools>=4.0.0 in /usr/local/lib/python3.7/dist-packages (from pytest->mindscope_utilities) (8.8.0)\n",
            "Requirement already satisfied: py>=1.5.0 in /usr/local/lib/python3.7/dist-packages (from pytest->mindscope_utilities) (1.10.0)\n",
            "Requirement already satisfied: atomicwrites>=1.0 in /usr/local/lib/python3.7/dist-packages (from pytest->mindscope_utilities) (1.4.0)\n",
            "Building wheels for collected packages: mindscope-utilities, glymur, argschema\n",
            "  Building wheel for mindscope-utilities (setup.py) ... \u001b[?25l\u001b[?25hdone\n",
            "  Created wheel for mindscope-utilities: filename=mindscope_utilities-0.1.6-py3-none-any.whl size=7689 sha256=70692f72a7a2467d10952c2ba7b50ceadf11afc4c27b13d10aa90b640e0ec37f\n",
            "  Stored in directory: /root/.cache/pip/wheels/48/38/12/bbf0ea75e0e65307d490be6970f2e56d7777ac24d8dc11cce6\n",
            "  Building wheel for glymur (setup.py) ... \u001b[?25l\u001b[?25hdone\n",
            "  Created wheel for glymur: filename=Glymur-0.8.19-py3-none-any.whl size=2722014 sha256=af87ba0a8963757a7e5e8cc39d0009e762a18d5dccfdd6b0d48324f36851e1f2\n",
            "  Stored in directory: /root/.cache/pip/wheels/36/bc/bd/1786279b44db4cbd6ded18090d02978fc31e78e3e516551bb4\n",
            "  Building wheel for argschema (setup.py) ... \u001b[?25l\u001b[?25hdone\n",
            "  Created wheel for argschema: filename=argschema-2.0.2-py2.py3-none-any.whl size=17795 sha256=d8d6fe48651228ab9333c294df615fdc00c2319cd2455c166ba91c669ca97b26\n",
            "  Stored in directory: /root/.cache/pip/wheels/ee/97/a8/4dbf0458be0af473d083a6354c0c126490e82447237bb0b907\n",
            "Successfully built mindscope-utilities glymur argschema\n",
            "Installing collected packages: ruamel.yaml.clib, numpy, urllib3, ruamel.yaml, pandas, jmespath, h5py, multidict, hdmf, botocore, yarl, s3transfer, pynwb, marshmallow, distro, async-timeout, xarray, tables, simplejson, simpleitk, scikit-build, requests-toolbelt, pynrrd, pyflakes, pycodestyle, psycopg2-binary, nest-asyncio, ndx-events, mccabe, glymur, boto3, argschema, aiohttp, flake8, allensdk, mindscope-utilities\n",
            "  Attempting uninstall: numpy\n",
            "    Found existing installation: numpy 1.19.5\n",
            "    Uninstalling numpy-1.19.5:\n",
            "      Successfully uninstalled numpy-1.19.5\n",
            "  Attempting uninstall: urllib3\n",
            "    Found existing installation: urllib3 1.24.3\n",
            "    Uninstalling urllib3-1.24.3:\n",
            "      Successfully uninstalled urllib3-1.24.3\n",
            "  Attempting uninstall: pandas\n",
            "    Found existing installation: pandas 1.1.5\n",
            "    Uninstalling pandas-1.1.5:\n",
            "      Successfully uninstalled pandas-1.1.5\n",
            "  Attempting uninstall: h5py\n",
            "    Found existing installation: h5py 3.1.0\n",
            "    Uninstalling h5py-3.1.0:\n",
            "      Successfully uninstalled h5py-3.1.0\n",
            "  Attempting uninstall: xarray\n",
            "    Found existing installation: xarray 0.18.2\n",
            "    Uninstalling xarray-0.18.2:\n",
            "      Successfully uninstalled xarray-0.18.2\n",
            "  Attempting uninstall: tables\n",
            "    Found existing installation: tables 3.4.4\n",
            "    Uninstalling tables-3.4.4:\n",
            "      Successfully uninstalled tables-3.4.4\n",
            "  Attempting uninstall: nest-asyncio\n",
            "    Found existing installation: nest-asyncio 1.5.1\n",
            "    Uninstalling nest-asyncio-1.5.1:\n",
            "      Successfully uninstalled nest-asyncio-1.5.1\n",
            "\u001b[31mERROR: pip's dependency resolver does not currently take into account all the packages that are installed. This behaviour is the source of the following dependency conflicts.\n",
            "tensorflow 2.5.0 requires h5py~=3.1.0, but you have h5py 2.10.0 which is incompatible.\n",
            "tensorflow 2.5.0 requires numpy~=1.19.2, but you have numpy 1.18.5 which is incompatible.\n",
            "nbclient 0.5.3 requires jupyter-client>=6.1.5, but you have jupyter-client 5.3.5 which is incompatible.\n",
            "google-colab 1.0.0 requires pandas~=1.1.0; python_version >= \"3.0\", but you have pandas 0.25.3 which is incompatible.\n",
            "fbprophet 0.7.1 requires pandas>=1.0.4, but you have pandas 0.25.3 which is incompatible.\n",
            "datascience 0.10.6 requires folium==0.2.1, but you have folium 0.8.3 which is incompatible.\n",
            "arviz 0.11.2 requires xarray>=0.16.1, but you have xarray 0.15.1 which is incompatible.\n",
            "albumentations 0.1.12 requires imgaug<0.2.7,>=0.2.5, but you have imgaug 0.2.9 which is incompatible.\u001b[0m\n",
            "Successfully installed aiohttp-3.7.4 allensdk-2.11.2 argschema-2.0.2 async-timeout-3.0.1 boto3-1.17.21 botocore-1.20.107 distro-1.5.0 flake8-3.9.2 glymur-0.8.19 h5py-2.10.0 hdmf-2.4.0 jmespath-0.10.0 marshmallow-3.0.0rc6 mccabe-0.6.1 mindscope-utilities-0.1.6 multidict-5.1.0 ndx-events-0.2.0 nest-asyncio-1.2.0 numpy-1.18.5 pandas-0.25.3 psycopg2-binary-2.9.1 pycodestyle-2.7.0 pyflakes-2.3.1 pynrrd-0.4.2 pynwb-1.4.0 requests-toolbelt-0.9.1 ruamel.yaml-0.17.10 ruamel.yaml.clib-0.2.6 s3transfer-0.3.7 scikit-build-0.11.1 simpleitk-2.0.2 simplejson-3.17.2 tables-3.6.1 urllib3-1.25.11 xarray-0.15.1 yarl-1.6.3\n",
            "\u001b[33mWARNING: Running pip as the 'root' user can result in broken permissions and conflicting behaviour with the system package manager. It is recommended to use a virtual environment instead: https://pip.pypa.io/warnings/venv\u001b[0m\n"
          ],
          "name": "stdout"
        },
        {
          "output_type": "display_data",
          "data": {
            "application/vnd.colab-display-data+json": {
              "pip_warning": {
                "packages": [
                  "numpy",
                  "pandas"
                ]
              }
            }
          },
          "metadata": {
            "tags": []
          }
        }
      ]
    },
    {
      "cell_type": "markdown",
      "metadata": {
        "id": "Og7M2Us73Igx"
      },
      "source": [
        "## Import packages\n"
      ]
    },
    {
      "cell_type": "code",
      "metadata": {
        "id": "rW15sYjE3NBt"
      },
      "source": [
        "import os\n",
        "import numpy as np\n",
        "import pandas as pd\n",
        "from tqdm import tqdm\n",
        "import seaborn as sns\n",
        "import matplotlib.pyplot as plt\n",
        "\n",
        "import mindscope_utilities\n",
        "import mindscope_utilities.visual_behavior_ophys as ophys\n",
        "\n",
        "from allensdk.brain_observatory.behavior.behavior_project_cache import VisualBehaviorOphysProjectCache\n",
        "\n",
        "pd.set_option('display.max_columns', 500)"
      ],
      "execution_count": null,
      "outputs": []
    },
    {
      "cell_type": "markdown",
      "metadata": {
        "id": "RO8V4pLJ3qQm"
      },
      "source": [
        "## Import datasets\n"
      ]
    },
    {
      "cell_type": "code",
      "metadata": {
        "id": "EFjli-5O3xTB"
      },
      "source": [
        "hello\n"
      ],
      "execution_count": null,
      "outputs": []
    }
  ]
}